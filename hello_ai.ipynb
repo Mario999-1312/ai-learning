{
  "nbformat": 4,
  "nbformat_minor": 0,
  "metadata": {
    "colab": {
      "provenance": [],
      "authorship_tag": "ABX9TyMwHD4Nr7FdhYyc85TDN7aK",
      "include_colab_link": true
    },
    "kernelspec": {
      "name": "python3",
      "display_name": "Python 3"
    },
    "language_info": {
      "name": "python"
    }
  },
  "cells": [
    {
      "cell_type": "markdown",
      "metadata": {
        "id": "view-in-github",
        "colab_type": "text"
      },
      "source": [
        "<a href=\"https://colab.research.google.com/github/Mario999-1312/ai-learning/blob/main/hello_ai.ipynb\" target=\"_parent\"><img src=\"https://colab.research.google.com/assets/colab-badge.svg\" alt=\"Open In Colab\"/></a>"
      ]
    },
    {
      "cell_type": "code",
      "source": [
        "print(\"Hello, AI!\")\n",
        "import sys, numpy as np, pandas as pd\n",
        "print(\"Python\", sys.version.split()[0])\n",
        "print(\"NumPy\", np.__version__, \"|Pandas:\", pd.__version__)\n"
      ],
      "metadata": {
        "id": "_0LrYx0lVRqJ",
        "colab": {
          "base_uri": "https://localhost:8080/"
        },
        "outputId": "7e2f406d-0033-42cb-9048-2c8b250823eb"
      },
      "execution_count": 3,
      "outputs": [
        {
          "output_type": "stream",
          "name": "stdout",
          "text": [
            "Hello, AI!\n",
            "Python 3.12.11\n",
            "NumPy 2.0.2 |Pandas: 2.2.2\n"
          ]
        }
      ]
    }
  ]
}